{
 "cells": [
  {
   "cell_type": "code",
   "execution_count": 1,
   "metadata": {},
   "outputs": [],
   "source": [
    "import numpy as np\n",
    "import matplotlib.pyplot as plt\n",
    "import pandas as pd\n",
    "%matplotlib inline"
   ]
  },
  {
   "cell_type": "code",
   "execution_count": 4,
   "metadata": {},
   "outputs": [
    {
     "name": "stdout",
     "output_type": "stream",
     "text": [
      "(3000, 3)\n",
      "(3000, 1)\n"
     ]
    }
   ],
   "source": [
    "dfx=pd.read_csv('Logistic_X_Train.csv')\n",
    "dfy=pd.read_csv('Logistic_Y_Train.csv')\n",
    "x=dfx.values\n",
    "y=dfy.values\n",
    "\n",
    "print(x.shape)\n",
    "print(y.shape)\n",
    "\n",
    "#plt.scatter(x,y)"
   ]
  },
  {
   "cell_type": "code",
   "execution_count": 33,
   "metadata": {},
   "outputs": [],
   "source": [
    "def hypothesis(x,w,b):\n",
    "    '''accepts input vector x,input weight vector theta=w and bias b'''\n",
    "    h=np.dot(x,w) + b # scalar #the bias term is theta0 \n",
    "    return sigmoid(h)\n",
    "\n",
    "def sigmoid(z):\n",
    "    return 1.0/(1.0+np.exp(-1.0*z))\n",
    "\n",
    "def error(y_true,x,w,b): #neg of LL\n",
    "    \n",
    "    m=x.shape[0]\n",
    "    \n",
    "    err=0.0\n",
    "    \n",
    "    for i in range(m):\n",
    "        hx=hypothesis(x[i],w,b) #why not at once\n",
    "        err+= y_true[i]*np.log2(hx)+(1-y_true[i])*np.log2(1-hx)\n",
    "        \n",
    "        return -err/m #avg out err over each example\n",
    "    \n",
    "def get_grads(y_true,x,w,b):\n",
    "    \n",
    "    grad_w=np.zeros(w.shape)\n",
    "    grad_b=0.0\n",
    "    \n",
    "    m=x.shape[0]\n",
    "    \n",
    "    for i in range(m):\n",
    "        hx=hypothesis(x[i],w,b)\n",
    "       \n",
    "        grad_w+=(y_true[i]-hx)*x[i] #removed -1 *\n",
    "        grad_b+=(y_true[i]-hx) #because x[0]=1 #removed -1 *\n",
    "        \n",
    "    grad_w/=m\n",
    "    grad_b/=m\n",
    "    \n",
    "    return[grad_w,grad_b] #tuple\n",
    "\n",
    "#One iteration of grad descent\n",
    "def grad_descent(x,y_true,w,b,learning_rate=0.1):\n",
    "    \n",
    "    err=error(y_true,x,w,b)\n",
    "    [grad_w,grad_b]=get_grads(y_true,x,w,b)\n",
    "    \n",
    "    w=w+learning_rate*grad_w\n",
    "    b=b+learning_rate*grad_b\n",
    "    \n",
    "    return err,w,b\n",
    "    \n",
    "def predict(x,w,b):\n",
    "    \n",
    "    confidence=hypothesis(x,w,b)\n",
    "    if confidence<0.5:\n",
    "        return 0\n",
    "    \n",
    "    else:\n",
    "        return 1\n",
    "    \n",
    "def get_acc(x_tst,sh,w,b):\n",
    "    y_pred=[]\n",
    "    \n",
    "    for i in range(sh):\n",
    "        p=predict(x_tst[i],w,b)\n",
    "        y_pred.append(p)\n",
    "        #print(p)\n",
    "        \n",
    "    y_pred=np.array(y_pred)\n",
    "    \n",
    "    return y_pred\n",
    "    \n",
    "    \n",
    "    \n",
    "        "
   ]
  },
  {
   "cell_type": "code",
   "execution_count": 22,
   "metadata": {},
   "outputs": [
    {
     "name": "stdout",
     "output_type": "stream",
     "text": [
      "(1000, 3)\n"
     ]
    }
   ],
   "source": [
    "loss=[]\n",
    "acc=[]\n",
    "\n",
    "W=2*np.random.random((x.shape[1],))#no of features\n",
    "b=5*np.random.random()\n",
    "\n",
    "dfx=pd.read_csv('Logistic_X_Test.csv')\n",
    "\n",
    "X_test=dfx.values\n",
    "Y_test=[]\n",
    "\n",
    "print(X_test.shape)\n",
    "\n",
    "\n",
    "for i in range(1000):\n",
    "    l,W,b=grad_descent(x,y,W,b,learning_rate=0.5)\n",
    "    #acc.append(get_acc(X_test,3000,W,b))\n",
    "    loss.append(l)"
   ]
  },
  {
   "cell_type": "code",
   "execution_count": 34,
   "metadata": {},
   "outputs": [],
   "source": [
    "Y_test=get_acc(X_test,1000,W,b)"
   ]
  },
  {
   "cell_type": "code",
   "execution_count": 37,
   "metadata": {},
   "outputs": [],
   "source": [
    "#print(Y_test)"
   ]
  },
  {
   "cell_type": "code",
   "execution_count": 38,
   "metadata": {},
   "outputs": [],
   "source": [
    "import csv\n",
    "with open('results_chem.csv','w',newline='') as f:\n",
    "    fwriter=csv.writer(f)\n",
    "    fwriter.writerow(['label'])\n",
    "    for i in range(1000):\n",
    "        fwriter.writerow([Y_test[i]])"
   ]
  },
  {
   "cell_type": "code",
   "execution_count": null,
   "metadata": {},
   "outputs": [],
   "source": []
  }
 ],
 "metadata": {
  "kernelspec": {
   "display_name": "Python 3",
   "language": "python",
   "name": "python3"
  },
  "language_info": {
   "codemirror_mode": {
    "name": "ipython",
    "version": 3
   },
   "file_extension": ".py",
   "mimetype": "text/x-python",
   "name": "python",
   "nbconvert_exporter": "python",
   "pygments_lexer": "ipython3",
   "version": "3.8.2"
  }
 },
 "nbformat": 4,
 "nbformat_minor": 2
}
